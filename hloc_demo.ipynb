{
 "cells": [
  {
   "cell_type": "code",
   "execution_count": null,
   "metadata": {},
   "outputs": [],
   "source": [
    "# !git clone --quiet --recursive https://github.com/cvg/Hierarchical-Localization/\n",
    "%cd Hierarchical-Localization\n",
    "# !pip install --progress-bar off --quiet -e .\n",
    "# !pip install --progress-bar off --quiet --upgrade plotly\n",
    "\n",
    "import tqdm, tqdm.notebook\n",
    "tqdm.tqdm = tqdm.notebook.tqdm  # notebook-friendly progress bars\n",
    "from pathlib import Path\n",
    "\n",
    "from hloc import extract_features, match_features, reconstruction, visualization, pairs_from_exhaustive, semantic_features\n",
    "from hloc.visualization import plot_images, read_image\n",
    "from hloc.utils import viz_3d"
   ]
  },
  {
   "cell_type": "code",
   "execution_count": null,
   "metadata": {},
   "outputs": [],
   "source": [
    "images = Path('datasets/sacre_coeur')\n",
    "images2 = Path('datasets/sacre_coeur/seg_mapping2/')\n",
    "outputs = Path('outputs/demo1/')\n",
    "outputs_h5 = Path('outputs/semantic_demo.h5')\n",
    "!rm -rf $outputs\n",
    "!rm -rf $outputs2\n",
    "\n",
    "# SfM에 사용될 이미지 페어 파일 경로와 로컬라이제이션에 사용될 이미지 페어 파일 경로 설정\n",
    "sfm_pairs = outputs / 'pairs-sfm.txt'\n",
    "loc_pairs = outputs / 'pairs-loc.txt'\n",
    "sfm_dir = outputs / 'sfm'\n",
    "# 특징과 매칭 결과를 저장할 파일 경로 설정\n",
    "features = outputs / 'features.h5'\n",
    "matches = outputs / 'matches.h5'\n",
    "# 특징 추출 및 매칭 설정 가져오기\n",
    "feature_conf = extract_features.confs['disk']\n",
    "matcher_conf = match_features.confs['disk+lightglue']"
   ]
  },
  {
   "cell_type": "code",
   "execution_count": null,
   "metadata": {},
   "outputs": [],
   "source": [
    "# 참조 이미지 목록 설정\n",
    "references = [str(p.relative_to(images)) for p in (images / 'mapping2/').iterdir() if not p.name.startswith('.')]\n",
    "print(len(references), \"mapping images\")\n",
    "# 참조 이미지들 플롯\n",
    "plot_images([read_image(images / r) for r in references], dpi=25)"
   ]
  },
  {
   "cell_type": "code",
   "execution_count": null,
   "metadata": {},
   "outputs": [],
   "source": [
    "references2 = [str(p.relative_to(images2)) for p in (images2 / 'seg_mapping2/').iterdir() if not p.name.startswith('.')]\n",
    "print(len(references2), \"segmenation mapping images\")\n",
    "plot_images([read_image(images2 / r) for r in references2], dpi=25)"
   ]
  },
  {
   "cell_type": "code",
   "execution_count": null,
   "metadata": {},
   "outputs": [],
   "source": [
    "import os\n",
    "os.environ['CUDA_LAUNCH_BLOCKING'] = \"1\"\n",
    "os.environ[\"CUDA_VISIBLE_DEVICES\"] = \"1\""
   ]
  },
  {
   "cell_type": "code",
   "execution_count": null,
   "metadata": {},
   "outputs": [],
   "source": [
    "# 시맨틱 세그멘테이션 정보 추출\n",
    "semantic_features.extract_semantic_segmentation(images2, outputs_h5)\n",
    "semantic_features.extract_features(images2, outputs_h5)\n",
    "# 이미지에서 특징 추출\n",
    "extract_features.main(feature_conf, images, image_list=references, feature_path=features)\n",
    "# SfM에 사용할 이미지 페어 목록 생성\n",
    "pairs_from_exhaustive.main(sfm_pairs, image_list=references)\n",
    "# 이미지 특징 매칭 수행\n",
    "match_features.main(matcher_conf, sfm_pairs, features=features, matches=matches)"
   ]
  },
  {
   "cell_type": "code",
   "execution_count": null,
   "metadata": {},
   "outputs": [],
   "source": [
    "# 3D 재구성 수행\n",
    "model = reconstruction.main(sfm_dir, images, sfm_pairs, features, matches, image_list=references)"
   ]
  },
  {
   "cell_type": "code",
   "execution_count": null,
   "metadata": {},
   "outputs": [],
   "source": [
    "fig = viz_3d.init_figure()\n",
    "viz_3d.plot_reconstruction(fig, model, color='rgba(255,0,0,0.5)', name=\"mapping\", points_rgb=True)\n",
    "fig.show()"
   ]
  },
  {
   "cell_type": "code",
   "execution_count": null,
   "metadata": {},
   "outputs": [],
   "source": [
    "query = 'query.jpg'\n",
    "!mkdir -p $images/query && $images/$query -q\n",
    "plot_images([read_image(images / query)], dpi=75)"
   ]
  },
  {
   "cell_type": "code",
   "execution_count": null,
   "metadata": {},
   "outputs": [],
   "source": [
    "extract_features.main(feature_conf, images, image_list=[query], feature_path=features, overwrite=True)\n",
    "pairs_from_exhaustive.main(loc_pairs, image_list=[query], ref_list=references)\n",
    "match_features.main(matcher_conf, loc_pairs, features=features, matches=matches, overwrite=True);"
   ]
  },
  {
   "cell_type": "code",
   "execution_count": null,
   "metadata": {},
   "outputs": [],
   "source": [
    "import pycolmap\n",
    "from hloc.localize_sfm import QueryLocalizer, pose_from_cluster\n",
    "# 로컬라이제이션에 사용할 이미지와 관련 설정 가져오기\n",
    "camera = pycolmap.infer_camera_from_image(images / query)\n",
    "ref_ids = []\n",
    "# 이미지 모델에서 참조 이미지의 ID 가져오기\n",
    "for r in references:\n",
    "    image_info = model.find_image_with_name(r)\n",
    "    if image_info is not None:\n",
    "        ref_ids.append(image_info.image_id)\n",
    "    else:\n",
    "        print(f\"Image '{r}' not found in the model.\")\n",
    "# 로컬라이제이션을 위한 설정 정의\n",
    "conf = {\n",
    "    'estimation': {'ransac': {'max_error': 12}},\n",
    "    'refinement': {'refine_focal_length': True, 'refine_extra_params': True},\n",
    "}\n",
    "# QueryLocalizaer 초기화\n",
    "localizer = QueryLocalizer(model, conf)\n",
    "# 이미지 로컬라이제이션을 수행하고 결과 가져오기\n",
    "ret, log = pose_from_cluster(localizer, query, camera, ref_ids, features, matches)\n",
    "# 일치하는 correspondence 수 및 결과 시각화\n",
    "print(f'found {ret[\"num_inliers\"]}/{len(ret[\"inliers\"])} inlier correspondences.')\n",
    "visualization.visualize_loc_from_log(images, query, log, model)"
   ]
  },
  {
   "cell_type": "code",
   "execution_count": null,
   "metadata": {},
   "outputs": [],
   "source": [
    "import numpy as np\n",
    "pose = pycolmap.Image(tvec=ret['tvec'], qvec=ret['qvec'])\n",
    "viz_3d.plot_camera_colmap(fig, pose, camera, color='rgba(0,255,0,0.5)', name=query, fill=True)\n",
    "# visualize 2D-3D correspodences\n",
    "inl_3d = np.array([model.points3D[pid].xyz for pid in np.array(log['points3D_ids'])[ret['inliers']]])\n",
    "viz_3d.plot_points(fig, inl_3d, color=\"lime\", ps=1, name=query)\n",
    "fig.show()"
   ]
  }
 ],
 "metadata": {
  "kernelspec": {
   "display_name": "Hloc",
   "language": "python",
   "name": "hloc"
  },
  "language_info": {
   "codemirror_mode": {
    "name": "ipython",
    "version": 3
   },
   "file_extension": ".py",
   "mimetype": "text/x-python",
   "name": "python",
   "nbconvert_exporter": "python",
   "pygments_lexer": "ipython3",
   "version": "3.8.10"
  },
  "orig_nbformat": 4
 },
 "nbformat": 4,
 "nbformat_minor": 2
}
